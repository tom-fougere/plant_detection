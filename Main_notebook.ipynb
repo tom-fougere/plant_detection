{
 "cells": [
  {
   "cell_type": "code",
   "execution_count": null,
   "metadata": {},
   "outputs": [],
   "source": [
    "# Import\n"
   ]
  },
  {
   "cell_type": "code",
   "execution_count": null,
   "metadata": {},
   "outputs": [],
   "source": [
    "# Import wrapper\n",
    "from wrapper_main_functions import prepare_data, visualize_data, learn_data, show_results, load_weights, save_weights, evaluate_model\n",
    "\n",
    "# Load settings\n",
    "from used_settings import * "
   ]
  },
  {
   "cell_type": "code",
   "execution_count": null,
   "metadata": {},
   "outputs": [],
   "source": [
    "print(settings.keys())"
   ]
  },
  {
   "cell_type": "code",
   "execution_count": null,
   "metadata": {},
   "outputs": [],
   "source": [
    "# Switch between 'prepare', 'learn' and 'evaluate'\n",
    "s_processing_step = 'evaluate'"
   ]
  },
  {
   "cell_type": "code",
   "execution_count": null,
   "metadata": {},
   "outputs": [],
   "source": [
    "if s_processing_step == 'prepare':\n",
    "    print('Step: PREPARING data...')\n",
    "    prepare_data(settings)\n",
    "elif s_processing_step == 'visualize':\n",
    "    print('Step: VISUALIZING data...')\n",
    "    visualize_data(settings)\n",
    "elif s_processing_step == 'learn':\n",
    "    print('Step: LEARNING...')\n",
    "    learn_data(settings)\n",
    "elif s_processing_step == 'evaluate':\n",
    "    print('Step: EVALUATING...')\n",
    "    evaluate_model(settings)\n",
    "elif s_processing_step == 'results':\n",
    "    print('Step: SHOWING RESULTS...')\n",
    "    show_results(settings)\n",
    "elif s_processing_step == 'save':\n",
    "    print('Step: SAVING...')\n",
    "    save_weights(settings)\n",
    "elif s_processing_step == 'load':\n",
    "    print('Step: LOADING...')\n",
    "    load_weights(settings)\n",
    "else:\n",
    "    print(\"'\", s_processing_step, \"' doesn't exist as a defined step\")"
   ]
  }
 ],
 "metadata": {
  "kernelspec": {
   "display_name": "Python 3",
   "language": "python",
   "name": "python3"
  },
  "language_info": {
   "codemirror_mode": {
    "name": "ipython",
    "version": 3
   },
   "file_extension": ".py",
   "mimetype": "text/x-python",
   "name": "python",
   "nbconvert_exporter": "python",
   "pygments_lexer": "ipython3",
   "version": "3.7.6"
  }
 },
 "nbformat": 4,
 "nbformat_minor": 4
}
